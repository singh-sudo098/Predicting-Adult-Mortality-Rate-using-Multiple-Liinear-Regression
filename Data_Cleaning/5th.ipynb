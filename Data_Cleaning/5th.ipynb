{
 "cells": [
  {
   "cell_type": "code",
   "execution_count": 1,
   "metadata": {},
   "outputs": [],
   "source": [
    "import numpy as np\n",
    "import pandas as pd\n",
    "import matplotlib.pyplot as plt\n",
    "import geopandas as gpd\n",
    "import os\n",
    "from mpl_toolkits.axes_grid1 import make_axes_locatable\n",
    "import subprocess as sp\n",
    "from shapely import wkt\n",
    "import seaborn as sns"
   ]
  },
  {
   "cell_type": "code",
   "execution_count": 2,
   "metadata": {},
   "outputs": [],
   "source": [
    "sns.set()"
   ]
  },
  {
   "cell_type": "markdown",
   "metadata": {},
   "source": [
    "# ++++++++++++++++++++++++++++++++++++++++++++++++\n",
    "\n",
    "\n",
    "# ++++++++++++++++++++++++++++++++++++++++++++++++"
   ]
  },
  {
   "cell_type": "code",
   "execution_count": 3,
   "metadata": {},
   "outputs": [],
   "source": [
    "corona_df = pd.read_csv('edited_master.csv')"
   ]
  },
  {
   "cell_type": "code",
   "execution_count": 4,
   "metadata": {},
   "outputs": [
    {
     "data": {
      "text/html": [
       "<div>\n",
       "<style scoped>\n",
       "    .dataframe tbody tr th:only-of-type {\n",
       "        vertical-align: middle;\n",
       "    }\n",
       "\n",
       "    .dataframe tbody tr th {\n",
       "        vertical-align: top;\n",
       "    }\n",
       "\n",
       "    .dataframe thead th {\n",
       "        text-align: right;\n",
       "    }\n",
       "</style>\n",
       "<table border=\"1\" class=\"dataframe\">\n",
       "  <thead>\n",
       "    <tr style=\"text-align: right;\">\n",
       "      <th></th>\n",
       "      <th>Country</th>\n",
       "      <th>Date</th>\n",
       "      <th>Confirmed</th>\n",
       "      <th>Deaths</th>\n",
       "      <th>Recovered</th>\n",
       "      <th>Active</th>\n",
       "      <th>geometry</th>\n",
       "      <th>log_Confirmed</th>\n",
       "      <th>log_Deaths</th>\n",
       "    </tr>\n",
       "  </thead>\n",
       "  <tbody>\n",
       "    <tr>\n",
       "      <th>0</th>\n",
       "      <td>Aruba</td>\n",
       "      <td>2020-01-22 00:00:00</td>\n",
       "      <td>0.0</td>\n",
       "      <td>0.0</td>\n",
       "      <td>0.0</td>\n",
       "      <td>0.0</td>\n",
       "      <td>POLYGON ((-69.8822326660156 12.4111099243165, ...</td>\n",
       "      <td>0.0</td>\n",
       "      <td>0.0</td>\n",
       "    </tr>\n",
       "    <tr>\n",
       "      <th>1</th>\n",
       "      <td>Aruba</td>\n",
       "      <td>2020-01-23 00:00:00</td>\n",
       "      <td>0.0</td>\n",
       "      <td>0.0</td>\n",
       "      <td>0.0</td>\n",
       "      <td>0.0</td>\n",
       "      <td>POLYGON ((-69.8822326660156 12.4111099243165, ...</td>\n",
       "      <td>0.0</td>\n",
       "      <td>0.0</td>\n",
       "    </tr>\n",
       "    <tr>\n",
       "      <th>2</th>\n",
       "      <td>Aruba</td>\n",
       "      <td>2020-01-24 00:00:00</td>\n",
       "      <td>0.0</td>\n",
       "      <td>0.0</td>\n",
       "      <td>0.0</td>\n",
       "      <td>0.0</td>\n",
       "      <td>POLYGON ((-69.8822326660156 12.4111099243165, ...</td>\n",
       "      <td>0.0</td>\n",
       "      <td>0.0</td>\n",
       "    </tr>\n",
       "    <tr>\n",
       "      <th>3</th>\n",
       "      <td>Aruba</td>\n",
       "      <td>2020-01-25 00:00:00</td>\n",
       "      <td>0.0</td>\n",
       "      <td>0.0</td>\n",
       "      <td>0.0</td>\n",
       "      <td>0.0</td>\n",
       "      <td>POLYGON ((-69.8822326660156 12.4111099243165, ...</td>\n",
       "      <td>0.0</td>\n",
       "      <td>0.0</td>\n",
       "    </tr>\n",
       "    <tr>\n",
       "      <th>4</th>\n",
       "      <td>Aruba</td>\n",
       "      <td>2020-01-26 00:00:00</td>\n",
       "      <td>0.0</td>\n",
       "      <td>0.0</td>\n",
       "      <td>0.0</td>\n",
       "      <td>0.0</td>\n",
       "      <td>POLYGON ((-69.8822326660156 12.4111099243165, ...</td>\n",
       "      <td>0.0</td>\n",
       "      <td>0.0</td>\n",
       "    </tr>\n",
       "  </tbody>\n",
       "</table>\n",
       "</div>"
      ],
      "text/plain": [
       "  Country                 Date  Confirmed  Deaths  Recovered  Active  \\\n",
       "0   Aruba  2020-01-22 00:00:00        0.0     0.0        0.0     0.0   \n",
       "1   Aruba  2020-01-23 00:00:00        0.0     0.0        0.0     0.0   \n",
       "2   Aruba  2020-01-24 00:00:00        0.0     0.0        0.0     0.0   \n",
       "3   Aruba  2020-01-25 00:00:00        0.0     0.0        0.0     0.0   \n",
       "4   Aruba  2020-01-26 00:00:00        0.0     0.0        0.0     0.0   \n",
       "\n",
       "                                            geometry  log_Confirmed  \\\n",
       "0  POLYGON ((-69.8822326660156 12.4111099243165, ...            0.0   \n",
       "1  POLYGON ((-69.8822326660156 12.4111099243165, ...            0.0   \n",
       "2  POLYGON ((-69.8822326660156 12.4111099243165, ...            0.0   \n",
       "3  POLYGON ((-69.8822326660156 12.4111099243165, ...            0.0   \n",
       "4  POLYGON ((-69.8822326660156 12.4111099243165, ...            0.0   \n",
       "\n",
       "   log_Deaths  \n",
       "0         0.0  \n",
       "1         0.0  \n",
       "2         0.0  \n",
       "3         0.0  \n",
       "4         0.0  "
      ]
     },
     "execution_count": 4,
     "metadata": {},
     "output_type": "execute_result"
    }
   ],
   "source": [
    "corona_df.head()"
   ]
  },
  {
   "cell_type": "code",
   "execution_count": 6,
   "metadata": {},
   "outputs": [
    {
     "name": "stdout",
     "output_type": "stream",
     "text": [
      "<class 'pandas.core.frame.DataFrame'>\n",
      "RangeIndex: 22750 entries, 0 to 22749\n",
      "Data columns (total 9 columns):\n",
      "Country          22750 non-null object\n",
      "Date             22750 non-null object\n",
      "Confirmed        22750 non-null float64\n",
      "Deaths           22750 non-null float64\n",
      "Recovered        22750 non-null float64\n",
      "Active           22750 non-null float64\n",
      "geometry         22750 non-null object\n",
      "log_Confirmed    22750 non-null float64\n",
      "log_Deaths       22750 non-null float64\n",
      "dtypes: float64(6), object(3)\n",
      "memory usage: 1.6+ MB\n"
     ]
    }
   ],
   "source": [
    "corona_df.info()"
   ]
  },
  {
   "cell_type": "code",
   "execution_count": 12,
   "metadata": {},
   "outputs": [],
   "source": [
    "corona_df['Date'] = pd.to_datetime(corona_df['Date'])"
   ]
  },
  {
   "cell_type": "code",
   "execution_count": 10,
   "metadata": {},
   "outputs": [],
   "source": [
    "corona_df['geometry'] = corona_df['geometry'].apply(wkt.loads)"
   ]
  },
  {
   "cell_type": "code",
   "execution_count": 13,
   "metadata": {},
   "outputs": [
    {
     "name": "stdout",
     "output_type": "stream",
     "text": [
      "<class 'geopandas.geodataframe.GeoDataFrame'>\n",
      "RangeIndex: 22750 entries, 0 to 22749\n",
      "Data columns (total 9 columns):\n",
      "Country          22750 non-null object\n",
      "Date             22750 non-null datetime64[ns]\n",
      "Confirmed        22750 non-null float64\n",
      "Deaths           22750 non-null float64\n",
      "Recovered        22750 non-null float64\n",
      "Active           22750 non-null float64\n",
      "geometry         22750 non-null geometry\n",
      "log_Confirmed    22750 non-null float64\n",
      "log_Deaths       22750 non-null float64\n",
      "dtypes: datetime64[ns](1), float64(6), geometry(1), object(1)\n",
      "memory usage: 1.6+ MB\n"
     ]
    },
    {
     "name": "stderr",
     "output_type": "stream",
     "text": [
      "/Library/Frameworks/Python.framework/Versions/3.7/lib/python3.7/site-packages/pyproj/crs/crs.py:53: FutureWarning: '+init=<authority>:<code>' syntax is deprecated. '<authority>:<code>' is the preferred initialization method. When making the change, be mindful of axis order changes: https://pyproj4.github.io/pyproj/stable/gotchas.html#axis-order-changes-in-proj-6\n",
      "  return _prepare_from_string(\" \".join(pjargs))\n"
     ]
    }
   ],
   "source": [
    "geometry = corona_df.geometry\n",
    "crs = {'init': 'epsg:4326'}\n",
    "corona_df = gpd.GeoDataFrame(corona_df, crs=crs, geometry=geometry)\n",
    "corona_df.info()"
   ]
  },
  {
   "cell_type": "code",
   "execution_count": null,
   "metadata": {},
   "outputs": [],
   "source": []
  },
  {
   "cell_type": "markdown",
   "metadata": {},
   "source": [
    "# ++++++++++++++++++++++++++++++++++++++++++++++++\n",
    "\n",
    "\n",
    "# ++++++++++++++++++++++++++++++++++++++++++++++++"
   ]
  },
  {
   "cell_type": "code",
   "execution_count": 5,
   "metadata": {},
   "outputs": [
    {
     "data": {
      "text/html": [
       "<div>\n",
       "<style scoped>\n",
       "    .dataframe tbody tr th:only-of-type {\n",
       "        vertical-align: middle;\n",
       "    }\n",
       "\n",
       "    .dataframe tbody tr th {\n",
       "        vertical-align: top;\n",
       "    }\n",
       "\n",
       "    .dataframe thead th {\n",
       "        text-align: right;\n",
       "    }\n",
       "</style>\n",
       "<table border=\"1\" class=\"dataframe\">\n",
       "  <thead>\n",
       "    <tr style=\"text-align: right;\">\n",
       "      <th></th>\n",
       "      <th>Date</th>\n",
       "    </tr>\n",
       "  </thead>\n",
       "  <tbody>\n",
       "    <tr>\n",
       "      <th>0</th>\n",
       "      <td>2020-01-22</td>\n",
       "    </tr>\n",
       "    <tr>\n",
       "      <th>1</th>\n",
       "      <td>2020-01-23</td>\n",
       "    </tr>\n",
       "    <tr>\n",
       "      <th>2</th>\n",
       "      <td>2020-01-24</td>\n",
       "    </tr>\n",
       "    <tr>\n",
       "      <th>3</th>\n",
       "      <td>2020-01-25</td>\n",
       "    </tr>\n",
       "    <tr>\n",
       "      <th>4</th>\n",
       "      <td>2020-01-26</td>\n",
       "    </tr>\n",
       "  </tbody>\n",
       "</table>\n",
       "</div>"
      ],
      "text/plain": [
       "         Date\n",
       "0  2020-01-22\n",
       "1  2020-01-23\n",
       "2  2020-01-24\n",
       "3  2020-01-25\n",
       "4  2020-01-26"
      ]
     },
     "execution_count": 5,
     "metadata": {},
     "output_type": "execute_result"
    }
   ],
   "source": [
    "date_list = pd.read_csv('date_list.csv')\n",
    "date_list.head()"
   ]
  },
  {
   "cell_type": "code",
   "execution_count": 6,
   "metadata": {},
   "outputs": [
    {
     "name": "stdout",
     "output_type": "stream",
     "text": [
      "<class 'pandas.core.frame.DataFrame'>\n",
      "RangeIndex: 83 entries, 0 to 82\n",
      "Data columns (total 1 columns):\n",
      "Date    83 non-null object\n",
      "dtypes: object(1)\n",
      "memory usage: 792.0+ bytes\n"
     ]
    }
   ],
   "source": [
    "date_list.info()"
   ]
  },
  {
   "cell_type": "code",
   "execution_count": 7,
   "metadata": {},
   "outputs": [],
   "source": [
    "# date_list.Date = pd.to_datetime(date_list.Date)\n",
    "# date_list.info()"
   ]
  },
  {
   "cell_type": "code",
   "execution_count": 8,
   "metadata": {},
   "outputs": [
    {
     "data": {
      "text/html": [
       "<div>\n",
       "<style scoped>\n",
       "    .dataframe tbody tr th:only-of-type {\n",
       "        vertical-align: middle;\n",
       "    }\n",
       "\n",
       "    .dataframe tbody tr th {\n",
       "        vertical-align: top;\n",
       "    }\n",
       "\n",
       "    .dataframe thead th {\n",
       "        text-align: right;\n",
       "    }\n",
       "</style>\n",
       "<table border=\"1\" class=\"dataframe\">\n",
       "  <thead>\n",
       "    <tr style=\"text-align: right;\">\n",
       "      <th></th>\n",
       "      <th>Date</th>\n",
       "    </tr>\n",
       "  </thead>\n",
       "  <tbody>\n",
       "    <tr>\n",
       "      <th>0</th>\n",
       "      <td>2020-01-22</td>\n",
       "    </tr>\n",
       "    <tr>\n",
       "      <th>1</th>\n",
       "      <td>2020-01-23</td>\n",
       "    </tr>\n",
       "    <tr>\n",
       "      <th>2</th>\n",
       "      <td>2020-01-24</td>\n",
       "    </tr>\n",
       "    <tr>\n",
       "      <th>3</th>\n",
       "      <td>2020-01-25</td>\n",
       "    </tr>\n",
       "    <tr>\n",
       "      <th>4</th>\n",
       "      <td>2020-01-26</td>\n",
       "    </tr>\n",
       "  </tbody>\n",
       "</table>\n",
       "</div>"
      ],
      "text/plain": [
       "         Date\n",
       "0  2020-01-22\n",
       "1  2020-01-23\n",
       "2  2020-01-24\n",
       "3  2020-01-25\n",
       "4  2020-01-26"
      ]
     },
     "execution_count": 8,
     "metadata": {},
     "output_type": "execute_result"
    }
   ],
   "source": [
    "date_list = date_list.loc[date_list.Date <= '2020-04-13']\n",
    "date_list.reset_index(drop=True, inplace=True)\n",
    "date_list.head()"
   ]
  },
  {
   "cell_type": "code",
   "execution_count": 9,
   "metadata": {},
   "outputs": [],
   "source": [
    "date_list.to_csv('date_list.csv', encoding='utf-8', index=False)"
   ]
  },
  {
   "cell_type": "code",
   "execution_count": 10,
   "metadata": {},
   "outputs": [
    {
     "name": "stdout",
     "output_type": "stream",
     "text": [
      "         Date\n",
      "0  2020-01-22\n",
      "          Date\n",
      "29  2020-02-20\n",
      "          Date\n",
      "58  2020-03-20\n",
      "          Date\n",
      "81  2020-04-12\n"
     ]
    }
   ],
   "source": [
    "print(date_list.loc[date_list.Date == '2020-01-22'])\n",
    "print(date_list.loc[date_list.Date == '2020-02-20'])\n",
    "print(date_list.loc[date_list.Date == '2020-03-20'])\n",
    "print(date_list.loc[date_list.Date == '2020-04-12'])"
   ]
  },
  {
   "cell_type": "code",
   "execution_count": 11,
   "metadata": {},
   "outputs": [],
   "source": [
    "# date_list_test = date_list.iloc[[0]]\n",
    "date_list_test = date_list.iloc[[0, 29, 58, 81]]"
   ]
  },
  {
   "cell_type": "code",
   "execution_count": 12,
   "metadata": {},
   "outputs": [
    {
     "name": "stdout",
     "output_type": "stream",
     "text": [
      "<class 'pandas.core.frame.DataFrame'>\n",
      "Int64Index: 4 entries, 0 to 81\n",
      "Data columns (total 1 columns):\n",
      "Date    4 non-null object\n",
      "dtypes: object(1)\n",
      "memory usage: 64.0+ bytes\n"
     ]
    }
   ],
   "source": [
    "date_list_test.info()"
   ]
  },
  {
   "cell_type": "code",
   "execution_count": 13,
   "metadata": {},
   "outputs": [
    {
     "data": {
      "text/html": [
       "<div>\n",
       "<style scoped>\n",
       "    .dataframe tbody tr th:only-of-type {\n",
       "        vertical-align: middle;\n",
       "    }\n",
       "\n",
       "    .dataframe tbody tr th {\n",
       "        vertical-align: top;\n",
       "    }\n",
       "\n",
       "    .dataframe thead th {\n",
       "        text-align: right;\n",
       "    }\n",
       "</style>\n",
       "<table border=\"1\" class=\"dataframe\">\n",
       "  <thead>\n",
       "    <tr style=\"text-align: right;\">\n",
       "      <th></th>\n",
       "      <th>Date</th>\n",
       "    </tr>\n",
       "  </thead>\n",
       "  <tbody>\n",
       "    <tr>\n",
       "      <th>0</th>\n",
       "      <td>2020-01-22</td>\n",
       "    </tr>\n",
       "    <tr>\n",
       "      <th>1</th>\n",
       "      <td>2020-02-20</td>\n",
       "    </tr>\n",
       "    <tr>\n",
       "      <th>2</th>\n",
       "      <td>2020-03-20</td>\n",
       "    </tr>\n",
       "    <tr>\n",
       "      <th>3</th>\n",
       "      <td>2020-04-12</td>\n",
       "    </tr>\n",
       "  </tbody>\n",
       "</table>\n",
       "</div>"
      ],
      "text/plain": [
       "         Date\n",
       "0  2020-01-22\n",
       "1  2020-02-20\n",
       "2  2020-03-20\n",
       "3  2020-04-12"
      ]
     },
     "execution_count": 13,
     "metadata": {},
     "output_type": "execute_result"
    }
   ],
   "source": [
    "date_list_test.reset_index(drop=True, inplace=True)\n",
    "date_list_test.head()"
   ]
  },
  {
   "cell_type": "code",
   "execution_count": null,
   "metadata": {},
   "outputs": [],
   "source": []
  },
  {
   "cell_type": "markdown",
   "metadata": {},
   "source": [
    "# ++++++++++++++++++++++++++++++++++++++++++++++++\n",
    "\n",
    "\n",
    "# ++++++++++++++++++++++++++++++++++++++++++++++++"
   ]
  },
  {
   "cell_type": "code",
   "execution_count": 21,
   "metadata": {},
   "outputs": [
    {
     "data": {
      "text/html": [
       "<div>\n",
       "<style scoped>\n",
       "    .dataframe tbody tr th:only-of-type {\n",
       "        vertical-align: middle;\n",
       "    }\n",
       "\n",
       "    .dataframe tbody tr th {\n",
       "        vertical-align: top;\n",
       "    }\n",
       "\n",
       "    .dataframe thead th {\n",
       "        text-align: right;\n",
       "    }\n",
       "</style>\n",
       "<table border=\"1\" class=\"dataframe\">\n",
       "  <thead>\n",
       "    <tr style=\"text-align: right;\">\n",
       "      <th></th>\n",
       "      <th>Date</th>\n",
       "      <th>#Coronavirus</th>\n",
       "      <th>#covid</th>\n",
       "      <th>#ncov19</th>\n",
       "      <th>#ncov2019</th>\n",
       "      <th>#virus</th>\n",
       "    </tr>\n",
       "  </thead>\n",
       "  <tbody>\n",
       "    <tr>\n",
       "      <th>0</th>\n",
       "      <td>2020-01-22</td>\n",
       "      <td>7468</td>\n",
       "      <td>0</td>\n",
       "      <td>0</td>\n",
       "      <td>0</td>\n",
       "      <td>5662</td>\n",
       "    </tr>\n",
       "    <tr>\n",
       "      <th>1</th>\n",
       "      <td>2020-01-23</td>\n",
       "      <td>41496</td>\n",
       "      <td>0</td>\n",
       "      <td>0</td>\n",
       "      <td>0</td>\n",
       "      <td>29297</td>\n",
       "    </tr>\n",
       "    <tr>\n",
       "      <th>2</th>\n",
       "      <td>2020-01-24</td>\n",
       "      <td>82183</td>\n",
       "      <td>0</td>\n",
       "      <td>0</td>\n",
       "      <td>0</td>\n",
       "      <td>56540</td>\n",
       "    </tr>\n",
       "    <tr>\n",
       "      <th>3</th>\n",
       "      <td>2020-01-25</td>\n",
       "      <td>122925</td>\n",
       "      <td>0</td>\n",
       "      <td>0</td>\n",
       "      <td>0</td>\n",
       "      <td>92634</td>\n",
       "    </tr>\n",
       "    <tr>\n",
       "      <th>4</th>\n",
       "      <td>2020-01-26</td>\n",
       "      <td>165510</td>\n",
       "      <td>0</td>\n",
       "      <td>0</td>\n",
       "      <td>0</td>\n",
       "      <td>134705</td>\n",
       "    </tr>\n",
       "  </tbody>\n",
       "</table>\n",
       "</div>"
      ],
      "text/plain": [
       "         Date  #Coronavirus  #covid  #ncov19  #ncov2019  #virus\n",
       "0  2020-01-22          7468       0        0          0    5662\n",
       "1  2020-01-23         41496       0        0          0   29297\n",
       "2  2020-01-24         82183       0        0          0   56540\n",
       "3  2020-01-25        122925       0        0          0   92634\n",
       "4  2020-01-26        165510       0        0          0  134705"
      ]
     },
     "execution_count": 21,
     "metadata": {},
     "output_type": "execute_result"
    }
   ],
   "source": [
    "twitter = pd.read_csv('others/Twitter_no_of_tweets_by_Hashtags_cumsum.csv')\n",
    "twitter.head()"
   ]
  },
  {
   "cell_type": "code",
   "execution_count": 22,
   "metadata": {},
   "outputs": [
    {
     "name": "stdout",
     "output_type": "stream",
     "text": [
      "<class 'pandas.core.frame.DataFrame'>\n",
      "RangeIndex: 83 entries, 0 to 82\n",
      "Data columns (total 6 columns):\n",
      "Date            83 non-null object\n",
      "#Coronavirus    83 non-null int64\n",
      "#covid          83 non-null int64\n",
      "#ncov19         83 non-null int64\n",
      "#ncov2019       83 non-null int64\n",
      "#virus          83 non-null int64\n",
      "dtypes: int64(5), object(1)\n",
      "memory usage: 4.0+ KB\n"
     ]
    }
   ],
   "source": [
    "twitter.info()"
   ]
  },
  {
   "cell_type": "code",
   "execution_count": 23,
   "metadata": {},
   "outputs": [
    {
     "data": {
      "text/plain": [
       "Index(['Date', '#Coronavirus', '#covid', '#ncov19', '#ncov2019', '#virus'], dtype='object')"
      ]
     },
     "execution_count": 23,
     "metadata": {},
     "output_type": "execute_result"
    }
   ],
   "source": [
    "twitter.columns"
   ]
  },
  {
   "cell_type": "code",
   "execution_count": 24,
   "metadata": {},
   "outputs": [
    {
     "data": {
      "text/html": [
       "<div>\n",
       "<style scoped>\n",
       "    .dataframe tbody tr th:only-of-type {\n",
       "        vertical-align: middle;\n",
       "    }\n",
       "\n",
       "    .dataframe tbody tr th {\n",
       "        vertical-align: top;\n",
       "    }\n",
       "\n",
       "    .dataframe thead th {\n",
       "        text-align: right;\n",
       "    }\n",
       "</style>\n",
       "<table border=\"1\" class=\"dataframe\">\n",
       "  <thead>\n",
       "    <tr style=\"text-align: right;\">\n",
       "      <th></th>\n",
       "      <th>#Coronavirus</th>\n",
       "      <th>#covid</th>\n",
       "      <th>#ncov19</th>\n",
       "      <th>#ncov2019</th>\n",
       "      <th>#virus</th>\n",
       "    </tr>\n",
       "    <tr>\n",
       "      <th>Date</th>\n",
       "      <th></th>\n",
       "      <th></th>\n",
       "      <th></th>\n",
       "      <th></th>\n",
       "      <th></th>\n",
       "    </tr>\n",
       "  </thead>\n",
       "  <tbody>\n",
       "    <tr>\n",
       "      <th>2020-01-22</th>\n",
       "      <td>7468</td>\n",
       "      <td>0</td>\n",
       "      <td>0</td>\n",
       "      <td>0</td>\n",
       "      <td>5662</td>\n",
       "    </tr>\n",
       "    <tr>\n",
       "      <th>2020-01-23</th>\n",
       "      <td>41496</td>\n",
       "      <td>0</td>\n",
       "      <td>0</td>\n",
       "      <td>0</td>\n",
       "      <td>29297</td>\n",
       "    </tr>\n",
       "    <tr>\n",
       "      <th>2020-01-24</th>\n",
       "      <td>82183</td>\n",
       "      <td>0</td>\n",
       "      <td>0</td>\n",
       "      <td>0</td>\n",
       "      <td>56540</td>\n",
       "    </tr>\n",
       "    <tr>\n",
       "      <th>2020-01-25</th>\n",
       "      <td>122925</td>\n",
       "      <td>0</td>\n",
       "      <td>0</td>\n",
       "      <td>0</td>\n",
       "      <td>92634</td>\n",
       "    </tr>\n",
       "    <tr>\n",
       "      <th>2020-01-26</th>\n",
       "      <td>165510</td>\n",
       "      <td>0</td>\n",
       "      <td>0</td>\n",
       "      <td>0</td>\n",
       "      <td>134705</td>\n",
       "    </tr>\n",
       "  </tbody>\n",
       "</table>\n",
       "</div>"
      ],
      "text/plain": [
       "            #Coronavirus  #covid  #ncov19  #ncov2019  #virus\n",
       "Date                                                        \n",
       "2020-01-22          7468       0        0          0    5662\n",
       "2020-01-23         41496       0        0          0   29297\n",
       "2020-01-24         82183       0        0          0   56540\n",
       "2020-01-25        122925       0        0          0   92634\n",
       "2020-01-26        165510       0        0          0  134705"
      ]
     },
     "execution_count": 24,
     "metadata": {},
     "output_type": "execute_result"
    }
   ],
   "source": [
    "twitter.set_index('Date', inplace=True)\n",
    "twitter.head()"
   ]
  },
  {
   "cell_type": "code",
   "execution_count": 25,
   "metadata": {},
   "outputs": [
    {
     "data": {
      "text/html": [
       "<div>\n",
       "<style scoped>\n",
       "    .dataframe tbody tr th:only-of-type {\n",
       "        vertical-align: middle;\n",
       "    }\n",
       "\n",
       "    .dataframe tbody tr th {\n",
       "        vertical-align: top;\n",
       "    }\n",
       "\n",
       "    .dataframe thead th {\n",
       "        text-align: right;\n",
       "    }\n",
       "</style>\n",
       "<table border=\"1\" class=\"dataframe\">\n",
       "  <thead>\n",
       "    <tr style=\"text-align: right;\">\n",
       "      <th></th>\n",
       "      <th></th>\n",
       "      <th>0</th>\n",
       "    </tr>\n",
       "    <tr>\n",
       "      <th>Date</th>\n",
       "      <th></th>\n",
       "      <th></th>\n",
       "    </tr>\n",
       "  </thead>\n",
       "  <tbody>\n",
       "    <tr>\n",
       "      <th rowspan=\"5\" valign=\"top\">2020-01-22</th>\n",
       "      <th>#Coronavirus</th>\n",
       "      <td>7468</td>\n",
       "    </tr>\n",
       "    <tr>\n",
       "      <th>#covid</th>\n",
       "      <td>0</td>\n",
       "    </tr>\n",
       "    <tr>\n",
       "      <th>#ncov19</th>\n",
       "      <td>0</td>\n",
       "    </tr>\n",
       "    <tr>\n",
       "      <th>#ncov2019</th>\n",
       "      <td>0</td>\n",
       "    </tr>\n",
       "    <tr>\n",
       "      <th>#virus</th>\n",
       "      <td>5662</td>\n",
       "    </tr>\n",
       "  </tbody>\n",
       "</table>\n",
       "</div>"
      ],
      "text/plain": [
       "                            0\n",
       "Date                         \n",
       "2020-01-22 #Coronavirus  7468\n",
       "           #covid           0\n",
       "           #ncov19          0\n",
       "           #ncov2019        0\n",
       "           #virus        5662"
      ]
     },
     "execution_count": 25,
     "metadata": {},
     "output_type": "execute_result"
    }
   ],
   "source": [
    "stacked = pd.DataFrame(twitter.stack(dropna=False))\n",
    "stacked.head()"
   ]
  },
  {
   "cell_type": "code",
   "execution_count": 26,
   "metadata": {},
   "outputs": [
    {
     "name": "stdout",
     "output_type": "stream",
     "text": [
      "<class 'pandas.core.frame.DataFrame'>\n",
      "RangeIndex: 415 entries, 0 to 414\n",
      "Data columns (total 3 columns):\n",
      "Date       415 non-null object\n",
      "level_1    415 non-null object\n",
      "0          415 non-null int64\n",
      "dtypes: int64(1), object(2)\n",
      "memory usage: 9.9+ KB\n"
     ]
    }
   ],
   "source": [
    "stacked.reset_index(inplace=True)\n",
    "stacked.info()"
   ]
  },
  {
   "cell_type": "code",
   "execution_count": 27,
   "metadata": {},
   "outputs": [
    {
     "data": {
      "text/plain": [
       "Index(['Date', 'level_1', 0], dtype='object')"
      ]
     },
     "execution_count": 27,
     "metadata": {},
     "output_type": "execute_result"
    }
   ],
   "source": [
    "stacked.columns"
   ]
  },
  {
   "cell_type": "code",
   "execution_count": 28,
   "metadata": {},
   "outputs": [
    {
     "data": {
      "text/html": [
       "<div>\n",
       "<style scoped>\n",
       "    .dataframe tbody tr th:only-of-type {\n",
       "        vertical-align: middle;\n",
       "    }\n",
       "\n",
       "    .dataframe tbody tr th {\n",
       "        vertical-align: top;\n",
       "    }\n",
       "\n",
       "    .dataframe thead th {\n",
       "        text-align: right;\n",
       "    }\n",
       "</style>\n",
       "<table border=\"1\" class=\"dataframe\">\n",
       "  <thead>\n",
       "    <tr style=\"text-align: right;\">\n",
       "      <th></th>\n",
       "      <th>Date</th>\n",
       "      <th>Hashtags</th>\n",
       "      <th>no_of_mentions</th>\n",
       "    </tr>\n",
       "  </thead>\n",
       "  <tbody>\n",
       "    <tr>\n",
       "      <th>0</th>\n",
       "      <td>2020-01-22</td>\n",
       "      <td>#Coronavirus</td>\n",
       "      <td>7468</td>\n",
       "    </tr>\n",
       "    <tr>\n",
       "      <th>1</th>\n",
       "      <td>2020-01-22</td>\n",
       "      <td>#covid</td>\n",
       "      <td>0</td>\n",
       "    </tr>\n",
       "    <tr>\n",
       "      <th>2</th>\n",
       "      <td>2020-01-22</td>\n",
       "      <td>#ncov19</td>\n",
       "      <td>0</td>\n",
       "    </tr>\n",
       "    <tr>\n",
       "      <th>3</th>\n",
       "      <td>2020-01-22</td>\n",
       "      <td>#ncov2019</td>\n",
       "      <td>0</td>\n",
       "    </tr>\n",
       "    <tr>\n",
       "      <th>4</th>\n",
       "      <td>2020-01-22</td>\n",
       "      <td>#virus</td>\n",
       "      <td>5662</td>\n",
       "    </tr>\n",
       "  </tbody>\n",
       "</table>\n",
       "</div>"
      ],
      "text/plain": [
       "         Date      Hashtags  no_of_mentions\n",
       "0  2020-01-22  #Coronavirus            7468\n",
       "1  2020-01-22        #covid               0\n",
       "2  2020-01-22       #ncov19               0\n",
       "3  2020-01-22     #ncov2019               0\n",
       "4  2020-01-22        #virus            5662"
      ]
     },
     "execution_count": 28,
     "metadata": {},
     "output_type": "execute_result"
    }
   ],
   "source": [
    "stacked.rename(columns = {'level_1':'Hashtags',\n",
    "                          0:'no_of_mentions'\n",
    "                         }, \n",
    "               inplace = True)\n",
    "stacked.head()"
   ]
  },
  {
   "cell_type": "code",
   "execution_count": 29,
   "metadata": {},
   "outputs": [
    {
     "name": "stderr",
     "output_type": "stream",
     "text": [
      "/Library/Frameworks/Python.framework/Versions/3.7/lib/python3.7/site-packages/pandas/core/series.py:853: RuntimeWarning: divide by zero encountered in log10\n",
      "  result = getattr(ufunc, method)(*inputs, **kwargs)\n"
     ]
    }
   ],
   "source": [
    "stacked['log10_mentions'] = np.log10(stacked.no_of_mentions)"
   ]
  },
  {
   "cell_type": "code",
   "execution_count": 30,
   "metadata": {},
   "outputs": [
    {
     "data": {
      "text/plain": [
       "-inf"
      ]
     },
     "execution_count": 30,
     "metadata": {},
     "output_type": "execute_result"
    }
   ],
   "source": [
    "stacked['log10_mentions'].min()"
   ]
  },
  {
   "cell_type": "code",
   "execution_count": 31,
   "metadata": {},
   "outputs": [
    {
     "name": "stderr",
     "output_type": "stream",
     "text": [
      "/Library/Frameworks/Python.framework/Versions/3.7/lib/python3.7/site-packages/ipykernel_launcher.py:1: SettingWithCopyWarning: \n",
      "A value is trying to be set on a copy of a slice from a DataFrame\n",
      "\n",
      "See the caveats in the documentation: http://pandas.pydata.org/pandas-docs/stable/user_guide/indexing.html#returning-a-view-versus-a-copy\n",
      "  \"\"\"Entry point for launching an IPython kernel.\n"
     ]
    }
   ],
   "source": [
    "stacked.log10_mentions[stacked.log10_mentions < 0] = 0"
   ]
  },
  {
   "cell_type": "code",
   "execution_count": 32,
   "metadata": {},
   "outputs": [
    {
     "data": {
      "text/plain": [
       "0.0"
      ]
     },
     "execution_count": 32,
     "metadata": {},
     "output_type": "execute_result"
    }
   ],
   "source": [
    "stacked['log10_mentions'].min()"
   ]
  },
  {
   "cell_type": "code",
   "execution_count": 33,
   "metadata": {},
   "outputs": [
    {
     "data": {
      "text/plain": [
       "7.3090569889947385"
      ]
     },
     "execution_count": 33,
     "metadata": {},
     "output_type": "execute_result"
    }
   ],
   "source": [
    "stacked['log10_mentions'].max()"
   ]
  },
  {
   "cell_type": "code",
   "execution_count": null,
   "metadata": {},
   "outputs": [],
   "source": []
  },
  {
   "cell_type": "code",
   "execution_count": 34,
   "metadata": {},
   "outputs": [],
   "source": [
    "stacked.to_csv('TWITTER.csv', encoding='utf-8', index=False)"
   ]
  },
  {
   "cell_type": "code",
   "execution_count": 35,
   "metadata": {},
   "outputs": [
    {
     "name": "stdout",
     "output_type": "stream",
     "text": [
      "<class 'pandas.core.frame.DataFrame'>\n",
      "RangeIndex: 415 entries, 0 to 414\n",
      "Data columns (total 4 columns):\n",
      "Date              415 non-null datetime64[ns]\n",
      "Hashtags          415 non-null object\n",
      "no_of_mentions    415 non-null int64\n",
      "log10_mentions    415 non-null float64\n",
      "dtypes: datetime64[ns](1), float64(1), int64(1), object(1)\n",
      "memory usage: 13.1+ KB\n"
     ]
    }
   ],
   "source": [
    "stacked.Date = pd.to_datetime(stacked.Date)\n",
    "stacked.info()"
   ]
  },
  {
   "cell_type": "code",
   "execution_count": 36,
   "metadata": {},
   "outputs": [
    {
     "data": {
      "text/html": [
       "<div>\n",
       "<style scoped>\n",
       "    .dataframe tbody tr th:only-of-type {\n",
       "        vertical-align: middle;\n",
       "    }\n",
       "\n",
       "    .dataframe tbody tr th {\n",
       "        vertical-align: top;\n",
       "    }\n",
       "\n",
       "    .dataframe thead th {\n",
       "        text-align: right;\n",
       "    }\n",
       "</style>\n",
       "<table border=\"1\" class=\"dataframe\">\n",
       "  <thead>\n",
       "    <tr style=\"text-align: right;\">\n",
       "      <th></th>\n",
       "      <th>Date</th>\n",
       "      <th>Hashtags</th>\n",
       "      <th>no_of_mentions</th>\n",
       "      <th>log10_mentions</th>\n",
       "    </tr>\n",
       "  </thead>\n",
       "  <tbody>\n",
       "    <tr>\n",
       "      <th>410</th>\n",
       "      <td>2020-04-13</td>\n",
       "      <td>#Coronavirus</td>\n",
       "      <td>20373094</td>\n",
       "      <td>7.309057</td>\n",
       "    </tr>\n",
       "    <tr>\n",
       "      <th>411</th>\n",
       "      <td>2020-04-13</td>\n",
       "      <td>#covid</td>\n",
       "      <td>17799752</td>\n",
       "      <td>7.250414</td>\n",
       "    </tr>\n",
       "    <tr>\n",
       "      <th>412</th>\n",
       "      <td>2020-04-13</td>\n",
       "      <td>#ncov19</td>\n",
       "      <td>79996</td>\n",
       "      <td>4.903068</td>\n",
       "    </tr>\n",
       "    <tr>\n",
       "      <th>413</th>\n",
       "      <td>2020-04-13</td>\n",
       "      <td>#ncov2019</td>\n",
       "      <td>82505</td>\n",
       "      <td>4.916480</td>\n",
       "    </tr>\n",
       "    <tr>\n",
       "      <th>414</th>\n",
       "      <td>2020-04-13</td>\n",
       "      <td>#virus</td>\n",
       "      <td>19644966</td>\n",
       "      <td>7.293251</td>\n",
       "    </tr>\n",
       "  </tbody>\n",
       "</table>\n",
       "</div>"
      ],
      "text/plain": [
       "          Date      Hashtags  no_of_mentions  log10_mentions\n",
       "410 2020-04-13  #Coronavirus        20373094        7.309057\n",
       "411 2020-04-13        #covid        17799752        7.250414\n",
       "412 2020-04-13       #ncov19           79996        4.903068\n",
       "413 2020-04-13     #ncov2019           82505        4.916480\n",
       "414 2020-04-13        #virus        19644966        7.293251"
      ]
     },
     "execution_count": 36,
     "metadata": {},
     "output_type": "execute_result"
    }
   ],
   "source": [
    "selected_date_twitter = stacked.loc[stacked.Date == '2020-04-13']\n",
    "selected_date_twitter"
   ]
  },
  {
   "cell_type": "code",
   "execution_count": 37,
   "metadata": {},
   "outputs": [
    {
     "data": {
      "image/png": "[encoded data removed]",
      "text/plain": [
       "<Figure size 432x288 with 1 Axes>"
      ]
     },
     "metadata": {},
     "output_type": "display_data"
    }
   ],
   "source": [
    "sns.barplot(x=\"Hashtags\", y=\"log10_mentions\", data=selected_date_twitter);"
   ]
  },
  {
   "cell_type": "code",
   "execution_count": 38,
   "metadata": {},
   "outputs": [
    {
     "name": "stdout",
     "output_type": "stream",
     "text": [
      "<class 'pandas.core.frame.DataFrame'>\n",
      "Index: 83 entries, 2020-01-22 to 2020-04-13\n",
      "Data columns (total 5 columns):\n",
      "#Coronavirus    83 non-null int64\n",
      "#covid          83 non-null int64\n",
      "#ncov19         83 non-null int64\n",
      "#ncov2019       83 non-null int64\n",
      "#virus          83 non-null int64\n",
      "dtypes: int64(5)\n",
      "memory usage: 6.4+ KB\n"
     ]
    }
   ],
   "source": [
    "twitter.info()"
   ]
  },
  {
   "cell_type": "markdown",
   "metadata": {},
   "source": [
    "# ++++++++++++++++++++++++++++++++++++++++++++++++\n",
    "\n",
    "\n",
    "# ++++++++++++++++++++++++++++++++++++++++++++++++"
   ]
  },
  {
   "cell_type": "code",
   "execution_count": 309,
   "metadata": {},
   "outputs": [
    {
     "data": {
      "text/html": [
       "<div>\n",
       "<style scoped>\n",
       "    .dataframe tbody tr th:only-of-type {\n",
       "        vertical-align: middle;\n",
       "    }\n",
       "\n",
       "    .dataframe tbody tr th {\n",
       "        vertical-align: top;\n",
       "    }\n",
       "\n",
       "    .dataframe thead th {\n",
       "        text-align: right;\n",
       "    }\n",
       "</style>\n",
       "<table border=\"1\" class=\"dataframe\">\n",
       "  <thead>\n",
       "    <tr style=\"text-align: right;\">\n",
       "      <th></th>\n",
       "      <th>Date</th>\n",
       "      <th>Contro_Posts</th>\n",
       "      <th>Avg _comments</th>\n",
       "      <th>Avg_votes</th>\n",
       "      <th>Avg_posts</th>\n",
       "    </tr>\n",
       "  </thead>\n",
       "  <tbody>\n",
       "    <tr>\n",
       "      <th>0</th>\n",
       "      <td>2020-01-20</td>\n",
       "      <td>0.000000</td>\n",
       "      <td>3.003461</td>\n",
       "      <td>3.733037</td>\n",
       "      <td>0.698970</td>\n",
       "    </tr>\n",
       "    <tr>\n",
       "      <th>1</th>\n",
       "      <td>2020-01-21</td>\n",
       "      <td>0.301030</td>\n",
       "      <td>3.446848</td>\n",
       "      <td>4.463609</td>\n",
       "      <td>1.255273</td>\n",
       "    </tr>\n",
       "    <tr>\n",
       "      <th>2</th>\n",
       "      <td>2020-01-22</td>\n",
       "      <td>0.477121</td>\n",
       "      <td>3.718502</td>\n",
       "      <td>4.638040</td>\n",
       "      <td>1.380211</td>\n",
       "    </tr>\n",
       "    <tr>\n",
       "      <th>3</th>\n",
       "      <td>2020-01-23</td>\n",
       "      <td>0.698970</td>\n",
       "      <td>3.762078</td>\n",
       "      <td>4.827563</td>\n",
       "      <td>1.826075</td>\n",
       "    </tr>\n",
       "    <tr>\n",
       "      <th>4</th>\n",
       "      <td>2020-01-24</td>\n",
       "      <td>0.845098</td>\n",
       "      <td>3.916559</td>\n",
       "      <td>4.906691</td>\n",
       "      <td>1.857332</td>\n",
       "    </tr>\n",
       "  </tbody>\n",
       "</table>\n",
       "</div>"
      ],
      "text/plain": [
       "        Date  Contro_Posts  Avg _comments  Avg_votes  Avg_posts\n",
       "0 2020-01-20      0.000000       3.003461   3.733037   0.698970\n",
       "1 2020-01-21      0.301030       3.446848   4.463609   1.255273\n",
       "2 2020-01-22      0.477121       3.718502   4.638040   1.380211\n",
       "3 2020-01-23      0.698970       3.762078   4.827563   1.826075\n",
       "4 2020-01-24      0.845098       3.916559   4.906691   1.857332"
      ]
     },
     "execution_count": 309,
     "metadata": {},
     "output_type": "execute_result"
    }
   ],
   "source": [
    "reddit = pd.read_csv(\"others/Reddit_Dataset_with_cumsum_log.csv\", parse_dates=['Date'], dayfirst=True)\n",
    "reddit.head()"
   ]
  },
  {
   "cell_type": "code",
   "execution_count": 310,
   "metadata": {},
   "outputs": [
    {
     "name": "stdout",
     "output_type": "stream",
     "text": [
      "<class 'pandas.core.frame.DataFrame'>\n",
      "RangeIndex: 95 entries, 0 to 94\n",
      "Data columns (total 5 columns):\n",
      "Date             95 non-null datetime64[ns]\n",
      "Contro_Posts     95 non-null float64\n",
      "Avg _comments    95 non-null float64\n",
      "Avg_votes        95 non-null float64\n",
      "Avg_posts        95 non-null float64\n",
      "dtypes: datetime64[ns](1), float64(4)\n",
      "memory usage: 3.8 KB\n"
     ]
    }
   ],
   "source": [
    "reddit.info()"
   ]
  },
  {
   "cell_type": "code",
   "execution_count": 311,
   "metadata": {},
   "outputs": [
    {
     "data": {
      "text/plain": [
       "Index(['Date', 'Contro_Posts', 'Avg _comments', 'Avg_votes', 'Avg_posts'], dtype='object')"
      ]
     },
     "execution_count": 311,
     "metadata": {},
     "output_type": "execute_result"
    }
   ],
   "source": [
    "reddit.columns"
   ]
  },
  {
   "cell_type": "code",
   "execution_count": 312,
   "metadata": {},
   "outputs": [
    {
     "data": {
      "text/html": [
       "<div>\n",
       "<style scoped>\n",
       "    .dataframe tbody tr th:only-of-type {\n",
       "        vertical-align: middle;\n",
       "    }\n",
       "\n",
       "    .dataframe tbody tr th {\n",
       "        vertical-align: top;\n",
       "    }\n",
       "\n",
       "    .dataframe thead th {\n",
       "        text-align: right;\n",
       "    }\n",
       "</style>\n",
       "<table border=\"1\" class=\"dataframe\">\n",
       "  <thead>\n",
       "    <tr style=\"text-align: right;\">\n",
       "      <th></th>\n",
       "      <th>Contro_Posts</th>\n",
       "      <th>Avg _comments</th>\n",
       "      <th>Avg_votes</th>\n",
       "      <th>Avg_posts</th>\n",
       "    </tr>\n",
       "    <tr>\n",
       "      <th>Date</th>\n",
       "      <th></th>\n",
       "      <th></th>\n",
       "      <th></th>\n",
       "      <th></th>\n",
       "    </tr>\n",
       "  </thead>\n",
       "  <tbody>\n",
       "    <tr>\n",
       "      <th>2020-01-20</th>\n",
       "      <td>0.000000</td>\n",
       "      <td>3.003461</td>\n",
       "      <td>3.733037</td>\n",
       "      <td>0.698970</td>\n",
       "    </tr>\n",
       "    <tr>\n",
       "      <th>2020-01-21</th>\n",
       "      <td>0.301030</td>\n",
       "      <td>3.446848</td>\n",
       "      <td>4.463609</td>\n",
       "      <td>1.255273</td>\n",
       "    </tr>\n",
       "    <tr>\n",
       "      <th>2020-01-22</th>\n",
       "      <td>0.477121</td>\n",
       "      <td>3.718502</td>\n",
       "      <td>4.638040</td>\n",
       "      <td>1.380211</td>\n",
       "    </tr>\n",
       "    <tr>\n",
       "      <th>2020-01-23</th>\n",
       "      <td>0.698970</td>\n",
       "      <td>3.762078</td>\n",
       "      <td>4.827563</td>\n",
       "      <td>1.826075</td>\n",
       "    </tr>\n",
       "    <tr>\n",
       "      <th>2020-01-24</th>\n",
       "      <td>0.845098</td>\n",
       "      <td>3.916559</td>\n",
       "      <td>4.906691</td>\n",
       "      <td>1.857332</td>\n",
       "    </tr>\n",
       "  </tbody>\n",
       "</table>\n",
       "</div>"
      ],
      "text/plain": [
       "            Contro_Posts  Avg _comments  Avg_votes  Avg_posts\n",
       "Date                                                         \n",
       "2020-01-20      0.000000       3.003461   3.733037   0.698970\n",
       "2020-01-21      0.301030       3.446848   4.463609   1.255273\n",
       "2020-01-22      0.477121       3.718502   4.638040   1.380211\n",
       "2020-01-23      0.698970       3.762078   4.827563   1.826075\n",
       "2020-01-24      0.845098       3.916559   4.906691   1.857332"
      ]
     },
     "execution_count": 312,
     "metadata": {},
     "output_type": "execute_result"
    }
   ],
   "source": [
    "reddit.set_index('Date', inplace=True)\n",
    "reddit.head()"
   ]
  },
  {
   "cell_type": "code",
   "execution_count": 313,
   "metadata": {},
   "outputs": [],
   "source": [
    "reddit.rename(columns = {'Contro_Posts':'Contro Posts',\n",
    "                         'Avg _comments':'Avg Comments/Post',\n",
    "                         'Avg_votes':'Avg Votes/Post',\n",
    "                         'Avg_posts':'Avg Posts/Day'                         \n",
    "                         }, \n",
    "               inplace = True)"
   ]
  },
  {
   "cell_type": "code",
   "execution_count": 314,
   "metadata": {},
   "outputs": [
    {
     "data": {
      "text/html": [
       "<div>\n",
       "<style scoped>\n",
       "    .dataframe tbody tr th:only-of-type {\n",
       "        vertical-align: middle;\n",
       "    }\n",
       "\n",
       "    .dataframe tbody tr th {\n",
       "        vertical-align: top;\n",
       "    }\n",
       "\n",
       "    .dataframe thead th {\n",
       "        text-align: right;\n",
       "    }\n",
       "</style>\n",
       "<table border=\"1\" class=\"dataframe\">\n",
       "  <thead>\n",
       "    <tr style=\"text-align: right;\">\n",
       "      <th></th>\n",
       "      <th></th>\n",
       "      <th>0</th>\n",
       "    </tr>\n",
       "    <tr>\n",
       "      <th>Date</th>\n",
       "      <th></th>\n",
       "      <th></th>\n",
       "    </tr>\n",
       "  </thead>\n",
       "  <tbody>\n",
       "    <tr>\n",
       "      <th rowspan=\"4\" valign=\"top\">2020-01-20</th>\n",
       "      <th>Contro Posts</th>\n",
       "      <td>0.000000</td>\n",
       "    </tr>\n",
       "    <tr>\n",
       "      <th>Avg Comments/Post</th>\n",
       "      <td>3.003461</td>\n",
       "    </tr>\n",
       "    <tr>\n",
       "      <th>Avg Votes/Post</th>\n",
       "      <td>3.733037</td>\n",
       "    </tr>\n",
       "    <tr>\n",
       "      <th>Avg Posts/Day</th>\n",
       "      <td>0.698970</td>\n",
       "    </tr>\n",
       "    <tr>\n",
       "      <th>2020-01-21</th>\n",
       "      <th>Contro Posts</th>\n",
       "      <td>0.301030</td>\n",
       "    </tr>\n",
       "  </tbody>\n",
       "</table>\n",
       "</div>"
      ],
      "text/plain": [
       "                                     0\n",
       "Date                                  \n",
       "2020-01-20 Contro Posts       0.000000\n",
       "           Avg Comments/Post  3.003461\n",
       "           Avg Votes/Post     3.733037\n",
       "           Avg Posts/Day      0.698970\n",
       "2020-01-21 Contro Posts       0.301030"
      ]
     },
     "execution_count": 314,
     "metadata": {},
     "output_type": "execute_result"
    }
   ],
   "source": [
    "reddit_stacked = pd.DataFrame(reddit.stack(dropna=False))\n",
    "reddit_stacked.head()"
   ]
  },
  {
   "cell_type": "code",
   "execution_count": 315,
   "metadata": {},
   "outputs": [
    {
     "name": "stdout",
     "output_type": "stream",
     "text": [
      "<class 'pandas.core.frame.DataFrame'>\n",
      "RangeIndex: 380 entries, 0 to 379\n",
      "Data columns (total 3 columns):\n",
      "Date       380 non-null datetime64[ns]\n",
      "level_1    380 non-null object\n",
      "0          380 non-null float64\n",
      "dtypes: datetime64[ns](1), float64(1), object(1)\n",
      "memory usage: 9.0+ KB\n"
     ]
    }
   ],
   "source": [
    "reddit_stacked.reset_index(inplace=True)\n",
    "reddit_stacked.info()"
   ]
  },
  {
   "cell_type": "code",
   "execution_count": 316,
   "metadata": {},
   "outputs": [
    {
     "data": {
      "text/plain": [
       "Index(['Date', 'level_1', 0], dtype='object')"
      ]
     },
     "execution_count": 316,
     "metadata": {},
     "output_type": "execute_result"
    }
   ],
   "source": [
    "reddit_stacked.columns"
   ]
  },
  {
   "cell_type": "code",
   "execution_count": 317,
   "metadata": {},
   "outputs": [
    {
     "data": {
      "text/html": [
       "<div>\n",
       "<style scoped>\n",
       "    .dataframe tbody tr th:only-of-type {\n",
       "        vertical-align: middle;\n",
       "    }\n",
       "\n",
       "    .dataframe tbody tr th {\n",
       "        vertical-align: top;\n",
       "    }\n",
       "\n",
       "    .dataframe thead th {\n",
       "        text-align: right;\n",
       "    }\n",
       "</style>\n",
       "<table border=\"1\" class=\"dataframe\">\n",
       "  <thead>\n",
       "    <tr style=\"text-align: right;\">\n",
       "      <th></th>\n",
       "      <th>Date</th>\n",
       "      <th>Categories</th>\n",
       "      <th>log10_mentions</th>\n",
       "    </tr>\n",
       "  </thead>\n",
       "  <tbody>\n",
       "    <tr>\n",
       "      <th>0</th>\n",
       "      <td>2020-01-20</td>\n",
       "      <td>Contro Posts</td>\n",
       "      <td>0.000000</td>\n",
       "    </tr>\n",
       "    <tr>\n",
       "      <th>1</th>\n",
       "      <td>2020-01-20</td>\n",
       "      <td>Avg Comments/Post</td>\n",
       "      <td>3.003461</td>\n",
       "    </tr>\n",
       "    <tr>\n",
       "      <th>2</th>\n",
       "      <td>2020-01-20</td>\n",
       "      <td>Avg Votes/Post</td>\n",
       "      <td>3.733037</td>\n",
       "    </tr>\n",
       "    <tr>\n",
       "      <th>3</th>\n",
       "      <td>2020-01-20</td>\n",
       "      <td>Avg Posts/Day</td>\n",
       "      <td>0.698970</td>\n",
       "    </tr>\n",
       "    <tr>\n",
       "      <th>4</th>\n",
       "      <td>2020-01-21</td>\n",
       "      <td>Contro Posts</td>\n",
       "      <td>0.301030</td>\n",
       "    </tr>\n",
       "  </tbody>\n",
       "</table>\n",
       "</div>"
      ],
      "text/plain": [
       "        Date         Categories  log10_mentions\n",
       "0 2020-01-20       Contro Posts        0.000000\n",
       "1 2020-01-20  Avg Comments/Post        3.003461\n",
       "2 2020-01-20     Avg Votes/Post        3.733037\n",
       "3 2020-01-20      Avg Posts/Day        0.698970\n",
       "4 2020-01-21       Contro Posts        0.301030"
      ]
     },
     "execution_count": 317,
     "metadata": {},
     "output_type": "execute_result"
    }
   ],
   "source": [
    "reddit_stacked.rename(columns = {'level_1':'Categories',\n",
    "                          0:'log10_mentions'\n",
    "                         }, \n",
    "               inplace = True)\n",
    "reddit_stacked.head()"
   ]
  },
  {
   "cell_type": "code",
   "execution_count": 318,
   "metadata": {},
   "outputs": [
    {
     "name": "stdout",
     "output_type": "stream",
     "text": [
      "<class 'pandas.core.frame.DataFrame'>\n",
      "RangeIndex: 380 entries, 0 to 379\n",
      "Data columns (total 3 columns):\n",
      "Date              380 non-null datetime64[ns]\n",
      "Categories        380 non-null object\n",
      "log10_mentions    380 non-null float64\n",
      "dtypes: datetime64[ns](1), float64(1), object(1)\n",
      "memory usage: 9.0+ KB\n"
     ]
    }
   ],
   "source": [
    "reddit_stacked.info()"
   ]
  },
  {
   "cell_type": "code",
   "execution_count": null,
   "metadata": {},
   "outputs": [],
   "source": []
  },
  {
   "cell_type": "code",
   "execution_count": 319,
   "metadata": {},
   "outputs": [
    {
     "data": {
      "text/html": [
       "<div>\n",
       "<style scoped>\n",
       "    .dataframe tbody tr th:only-of-type {\n",
       "        vertical-align: middle;\n",
       "    }\n",
       "\n",
       "    .dataframe tbody tr th {\n",
       "        vertical-align: top;\n",
       "    }\n",
       "\n",
       "    .dataframe thead th {\n",
       "        text-align: right;\n",
       "    }\n",
       "</style>\n",
       "<table border=\"1\" class=\"dataframe\">\n",
       "  <thead>\n",
       "    <tr style=\"text-align: right;\">\n",
       "      <th></th>\n",
       "      <th>Date</th>\n",
       "      <th>Categories</th>\n",
       "      <th>log10_mentions</th>\n",
       "    </tr>\n",
       "  </thead>\n",
       "  <tbody>\n",
       "    <tr>\n",
       "      <th>336</th>\n",
       "      <td>2020-04-13</td>\n",
       "      <td>Contro Posts</td>\n",
       "      <td>4.201069</td>\n",
       "    </tr>\n",
       "    <tr>\n",
       "      <th>337</th>\n",
       "      <td>2020-04-13</td>\n",
       "      <td>Avg Comments/Post</td>\n",
       "      <td>4.744801</td>\n",
       "    </tr>\n",
       "    <tr>\n",
       "      <th>338</th>\n",
       "      <td>2020-04-13</td>\n",
       "      <td>Avg Votes/Post</td>\n",
       "      <td>5.811492</td>\n",
       "    </tr>\n",
       "    <tr>\n",
       "      <th>339</th>\n",
       "      <td>2020-04-13</td>\n",
       "      <td>Avg Posts/Day</td>\n",
       "      <td>3.189771</td>\n",
       "    </tr>\n",
       "  </tbody>\n",
       "</table>\n",
       "</div>"
      ],
      "text/plain": [
       "          Date         Categories  log10_mentions\n",
       "336 2020-04-13       Contro Posts        4.201069\n",
       "337 2020-04-13  Avg Comments/Post        4.744801\n",
       "338 2020-04-13     Avg Votes/Post        5.811492\n",
       "339 2020-04-13      Avg Posts/Day        3.189771"
      ]
     },
     "execution_count": 319,
     "metadata": {},
     "output_type": "execute_result"
    }
   ],
   "source": [
    "selected_date_reddit = reddit_stacked.loc[reddit_stacked.Date == '2020-04-13']\n",
    "selected_date_reddit"
   ]
  },
  {
   "cell_type": "code",
   "execution_count": 321,
   "metadata": {},
   "outputs": [],
   "source": [
    "reddit_stacked.to_csv('REDDIT.csv', encoding='utf-8', index=False)"
   ]
  },
  {
   "cell_type": "code",
   "execution_count": null,
   "metadata": {},
   "outputs": [],
   "source": []
  },
  {
   "cell_type": "code",
   "execution_count": 320,
   "metadata": {},
   "outputs": [
    {
     "data": {
      "image/png": "[encoded data removed]",
      "text/plain": [
       "<Figure size 432x288 with 1 Axes>"
      ]
     },
     "metadata": {},
     "output_type": "display_data"
    }
   ],
   "source": [
    "sns.barplot(x=\"log10_mentions\", y=\"Categories\", data = selected_date_reddit);"
   ]
  },
  {
   "cell_type": "code",
   "execution_count": null,
   "metadata": {},
   "outputs": [],
   "source": []
  },
  {
   "cell_type": "markdown",
   "metadata": {},
   "source": [
    "# ++++++++++++++++++++++++++++++++++++++++++++++++\n",
    "\n",
    "\n",
    "# ++++++++++++++++++++++++++++++++++++++++++++++++"
   ]
  },
  {
   "cell_type": "code",
   "execution_count": null,
   "metadata": {},
   "outputs": [],
   "source": []
  },
  {
   "cell_type": "code",
   "execution_count": 177,
   "metadata": {},
   "outputs": [
    {
     "data": {
      "text/html": [
       "<div>\n",
       "<style scoped>\n",
       "    .dataframe tbody tr th:only-of-type {\n",
       "        vertical-align: middle;\n",
       "    }\n",
       "\n",
       "    .dataframe tbody tr th {\n",
       "        vertical-align: top;\n",
       "    }\n",
       "\n",
       "    .dataframe thead th {\n",
       "        text-align: right;\n",
       "    }\n",
       "</style>\n",
       "<table border=\"1\" class=\"dataframe\">\n",
       "  <thead>\n",
       "    <tr style=\"text-align: right;\">\n",
       "      <th></th>\n",
       "      <th>date_time</th>\n",
       "      <th>gm_open</th>\n",
       "      <th>gm_close</th>\n",
       "      <th>johnson_open</th>\n",
       "      <th>johnson_close</th>\n",
       "      <th>jacobs_open</th>\n",
       "      <th>jacobs_close</th>\n",
       "      <th>albemarle_open</th>\n",
       "      <th>albemarle_close</th>\n",
       "      <th>disney_open</th>\n",
       "      <th>disney_close</th>\n",
       "      <th>att_open</th>\n",
       "      <th>att_close</th>\n",
       "      <th>aa_open</th>\n",
       "      <th>aa_close</th>\n",
       "    </tr>\n",
       "  </thead>\n",
       "  <tbody>\n",
       "    <tr>\n",
       "      <th>0</th>\n",
       "      <td>2019-10-28</td>\n",
       "      <td>37.21</td>\n",
       "      <td>36.64</td>\n",
       "      <td>128.62</td>\n",
       "      <td>129.18</td>\n",
       "      <td>94.33</td>\n",
       "      <td>94.41</td>\n",
       "      <td>62.75</td>\n",
       "      <td>63.74</td>\n",
       "      <td>131.45</td>\n",
       "      <td>130.53</td>\n",
       "      <td>38.30</td>\n",
       "      <td>38.49</td>\n",
       "      <td>31.00</td>\n",
       "      <td>31.36</td>\n",
       "    </tr>\n",
       "    <tr>\n",
       "      <th>1</th>\n",
       "      <td>2019-10-29</td>\n",
       "      <td>37.60</td>\n",
       "      <td>38.21</td>\n",
       "      <td>129.70</td>\n",
       "      <td>129.12</td>\n",
       "      <td>93.80</td>\n",
       "      <td>94.29</td>\n",
       "      <td>63.45</td>\n",
       "      <td>63.03</td>\n",
       "      <td>130.50</td>\n",
       "      <td>129.48</td>\n",
       "      <td>38.49</td>\n",
       "      <td>38.06</td>\n",
       "      <td>31.42</td>\n",
       "      <td>30.92</td>\n",
       "    </tr>\n",
       "    <tr>\n",
       "      <th>2</th>\n",
       "      <td>2019-10-30</td>\n",
       "      <td>38.26</td>\n",
       "      <td>37.91</td>\n",
       "      <td>133.30</td>\n",
       "      <td>132.84</td>\n",
       "      <td>94.48</td>\n",
       "      <td>94.84</td>\n",
       "      <td>62.86</td>\n",
       "      <td>62.67</td>\n",
       "      <td>129.69</td>\n",
       "      <td>129.60</td>\n",
       "      <td>38.39</td>\n",
       "      <td>38.20</td>\n",
       "      <td>30.77</td>\n",
       "      <td>30.29</td>\n",
       "    </tr>\n",
       "    <tr>\n",
       "      <th>3</th>\n",
       "      <td>2019-10-31</td>\n",
       "      <td>37.62</td>\n",
       "      <td>37.16</td>\n",
       "      <td>132.38</td>\n",
       "      <td>132.04</td>\n",
       "      <td>94.53</td>\n",
       "      <td>93.58</td>\n",
       "      <td>62.31</td>\n",
       "      <td>60.74</td>\n",
       "      <td>129.53</td>\n",
       "      <td>129.92</td>\n",
       "      <td>38.21</td>\n",
       "      <td>38.49</td>\n",
       "      <td>30.07</td>\n",
       "      <td>30.06</td>\n",
       "    </tr>\n",
       "    <tr>\n",
       "      <th>4</th>\n",
       "      <td>2019-11-01</td>\n",
       "      <td>37.21</td>\n",
       "      <td>37.97</td>\n",
       "      <td>132.05</td>\n",
       "      <td>131.20</td>\n",
       "      <td>94.25</td>\n",
       "      <td>96.07</td>\n",
       "      <td>61.46</td>\n",
       "      <td>64.49</td>\n",
       "      <td>130.99</td>\n",
       "      <td>132.75</td>\n",
       "      <td>38.95</td>\n",
       "      <td>38.95</td>\n",
       "      <td>30.30</td>\n",
       "      <td>30.56</td>\n",
       "    </tr>\n",
       "  </tbody>\n",
       "</table>\n",
       "</div>"
      ],
      "text/plain": [
       "   date_time  gm_open  gm_close  johnson_open  johnson_close  jacobs_open  \\\n",
       "0 2019-10-28    37.21     36.64        128.62         129.18        94.33   \n",
       "1 2019-10-29    37.60     38.21        129.70         129.12        93.80   \n",
       "2 2019-10-30    38.26     37.91        133.30         132.84        94.48   \n",
       "3 2019-10-31    37.62     37.16        132.38         132.04        94.53   \n",
       "4 2019-11-01    37.21     37.97        132.05         131.20        94.25   \n",
       "\n",
       "   jacobs_close  albemarle_open  albemarle_close  disney_open  disney_close  \\\n",
       "0         94.41           62.75            63.74       131.45        130.53   \n",
       "1         94.29           63.45            63.03       130.50        129.48   \n",
       "2         94.84           62.86            62.67       129.69        129.60   \n",
       "3         93.58           62.31            60.74       129.53        129.92   \n",
       "4         96.07           61.46            64.49       130.99        132.75   \n",
       "\n",
       "   att_open  att_close  aa_open  aa_close  \n",
       "0     38.30      38.49    31.00     31.36  \n",
       "1     38.49      38.06    31.42     30.92  \n",
       "2     38.39      38.20    30.77     30.29  \n",
       "3     38.21      38.49    30.07     30.06  \n",
       "4     38.95      38.95    30.30     30.56  "
      ]
     },
     "execution_count": 177,
     "metadata": {},
     "output_type": "execute_result"
    }
   ],
   "source": [
    "stock = pd.read_csv(\"others/StockMarketV1.csv\", parse_dates=['date_time'], dayfirst=True)\n",
    "stock.head()"
   ]
  },
  {
   "cell_type": "code",
   "execution_count": 179,
   "metadata": {},
   "outputs": [
    {
     "name": "stdout",
     "output_type": "stream",
     "text": [
      "<class 'pandas.core.frame.DataFrame'>\n",
      "RangeIndex: 179 entries, 0 to 178\n",
      "Data columns (total 15 columns):\n",
      "date_time          179 non-null datetime64[ns]\n",
      "gm_open            179 non-null float64\n",
      "gm_close           179 non-null float64\n",
      "johnson_open       179 non-null float64\n",
      "johnson_close      179 non-null float64\n",
      "jacobs_open        179 non-null float64\n",
      "jacobs_close       179 non-null float64\n",
      "albemarle_open     179 non-null float64\n",
      "albemarle_close    179 non-null float64\n",
      "disney_open        179 non-null float64\n",
      "disney_close       179 non-null float64\n",
      "att_open           179 non-null float64\n",
      "att_close          179 non-null float64\n",
      "aa_open            179 non-null float64\n",
      "aa_close           179 non-null float64\n",
      "dtypes: datetime64[ns](1), float64(14)\n",
      "memory usage: 21.1 KB\n"
     ]
    }
   ],
   "source": [
    "stock.info()"
   ]
  },
  {
   "cell_type": "code",
   "execution_count": 181,
   "metadata": {},
   "outputs": [],
   "source": [
    "stock.rename(columns = {'date_time':'Date'\n",
    "                       }, \n",
    "             inplace = True)"
   ]
  },
  {
   "cell_type": "code",
   "execution_count": 187,
   "metadata": {},
   "outputs": [
    {
     "data": {
      "text/plain": [
       "Index(['Date', 'gm_open', 'gm_close', 'johnson_open', 'johnson_close',\n",
       "       'jacobs_open', 'jacobs_close', 'albemarle_open', 'albemarle_close',\n",
       "       'disney_open', 'disney_close', 'att_open', 'att_close', 'aa_open',\n",
       "       'aa_close'],\n",
       "      dtype='object')"
      ]
     },
     "execution_count": 187,
     "metadata": {},
     "output_type": "execute_result"
    }
   ],
   "source": [
    "stock.columns"
   ]
  },
  {
   "cell_type": "code",
   "execution_count": 192,
   "metadata": {},
   "outputs": [],
   "source": [
    "stock_open = stock[['Date', 'gm_open', 'johnson_open', 'jacobs_open', \n",
    "                        'albemarle_open', 'disney_open', 'att_open', 'aa_open']]"
   ]
  },
  {
   "cell_type": "code",
   "execution_count": 193,
   "metadata": {},
   "outputs": [],
   "source": [
    "stock_selected = stock_open.loc[stock_open.Date == '2020-04-20']"
   ]
  },
  {
   "cell_type": "code",
   "execution_count": 195,
   "metadata": {},
   "outputs": [
    {
     "data": {
      "text/html": [
       "<div>\n",
       "<style scoped>\n",
       "    .dataframe tbody tr th:only-of-type {\n",
       "        vertical-align: middle;\n",
       "    }\n",
       "\n",
       "    .dataframe tbody tr th {\n",
       "        vertical-align: top;\n",
       "    }\n",
       "\n",
       "    .dataframe thead th {\n",
       "        text-align: right;\n",
       "    }\n",
       "</style>\n",
       "<table border=\"1\" class=\"dataframe\">\n",
       "  <thead>\n",
       "    <tr style=\"text-align: right;\">\n",
       "      <th></th>\n",
       "      <th>Date</th>\n",
       "      <th>gm_open</th>\n",
       "      <th>johnson_open</th>\n",
       "      <th>jacobs_open</th>\n",
       "      <th>albemarle_open</th>\n",
       "      <th>disney_open</th>\n",
       "      <th>att_open</th>\n",
       "      <th>aa_open</th>\n",
       "    </tr>\n",
       "  </thead>\n",
       "  <tbody>\n",
       "    <tr>\n",
       "      <th>175</th>\n",
       "      <td>2020-04-20</td>\n",
       "      <td>21.72</td>\n",
       "      <td>150.93</td>\n",
       "      <td>83.7</td>\n",
       "      <td>60.0</td>\n",
       "      <td>103.58</td>\n",
       "      <td>30.85</td>\n",
       "      <td>11.15</td>\n",
       "    </tr>\n",
       "  </tbody>\n",
       "</table>\n",
       "</div>"
      ],
      "text/plain": [
       "          Date  gm_open  johnson_open  jacobs_open  albemarle_open  \\\n",
       "175 2020-04-20    21.72        150.93         83.7            60.0   \n",
       "\n",
       "     disney_open  att_open  aa_open  \n",
       "175       103.58     30.85    11.15  "
      ]
     },
     "execution_count": 195,
     "metadata": {},
     "output_type": "execute_result"
    }
   ],
   "source": [
    "stock_selected"
   ]
  },
  {
   "cell_type": "code",
   "execution_count": 308,
   "metadata": {},
   "outputs": [],
   "source": []
  },
  {
   "cell_type": "code",
   "execution_count": 326,
   "metadata": {},
   "outputs": [
    {
     "name": "stderr",
     "output_type": "stream",
     "text": [
      "/Library/Frameworks/Python.framework/Versions/3.7/lib/python3.7/site-packages/pandas/core/frame.py:4218: SettingWithCopyWarning: \n",
      "A value is trying to be set on a copy of a slice from a DataFrame\n",
      "\n",
      "See the caveats in the documentation: http://pandas.pydata.org/pandas-docs/stable/user_guide/indexing.html#returning-a-view-versus-a-copy\n",
      "  return super().rename(**kwargs)\n"
     ]
    }
   ],
   "source": [
    "stock_open.rename(columns = {'gm_open':'GM',\n",
    "                             'johnson_open':'JHN',\n",
    "                             'jacobs_open':'JCB',\n",
    "                             'albemarle_open':'ALB',\n",
    "                             'disney_open':'DSN',\n",
    "                             'att_open':'ATT',\n",
    "                             'aa_open':'AA'\n",
    "                         }, \n",
    "               inplace = True)"
   ]
  },
  {
   "cell_type": "code",
   "execution_count": 331,
   "metadata": {},
   "outputs": [
    {
     "data": {
      "text/html": [
       "<div>\n",
       "<style scoped>\n",
       "    .dataframe tbody tr th:only-of-type {\n",
       "        vertical-align: middle;\n",
       "    }\n",
       "\n",
       "    .dataframe tbody tr th {\n",
       "        vertical-align: top;\n",
       "    }\n",
       "\n",
       "    .dataframe thead th {\n",
       "        text-align: right;\n",
       "    }\n",
       "</style>\n",
       "<table border=\"1\" class=\"dataframe\">\n",
       "  <thead>\n",
       "    <tr style=\"text-align: right;\">\n",
       "      <th></th>\n",
       "      <th>Date</th>\n",
       "      <th>GM</th>\n",
       "      <th>JHN</th>\n",
       "      <th>JCB</th>\n",
       "      <th>ALB</th>\n",
       "      <th>DSN</th>\n",
       "      <th>ATT</th>\n",
       "      <th>AA</th>\n",
       "    </tr>\n",
       "  </thead>\n",
       "  <tbody>\n",
       "    <tr>\n",
       "      <th>0</th>\n",
       "      <td>2019-10-28</td>\n",
       "      <td>37.21</td>\n",
       "      <td>128.62</td>\n",
       "      <td>94.33</td>\n",
       "      <td>62.75</td>\n",
       "      <td>131.45</td>\n",
       "      <td>38.30</td>\n",
       "      <td>31.00</td>\n",
       "    </tr>\n",
       "    <tr>\n",
       "      <th>1</th>\n",
       "      <td>2019-10-29</td>\n",
       "      <td>37.60</td>\n",
       "      <td>129.70</td>\n",
       "      <td>93.80</td>\n",
       "      <td>63.45</td>\n",
       "      <td>130.50</td>\n",
       "      <td>38.49</td>\n",
       "      <td>31.42</td>\n",
       "    </tr>\n",
       "    <tr>\n",
       "      <th>2</th>\n",
       "      <td>2019-10-30</td>\n",
       "      <td>38.26</td>\n",
       "      <td>133.30</td>\n",
       "      <td>94.48</td>\n",
       "      <td>62.86</td>\n",
       "      <td>129.69</td>\n",
       "      <td>38.39</td>\n",
       "      <td>30.77</td>\n",
       "    </tr>\n",
       "    <tr>\n",
       "      <th>3</th>\n",
       "      <td>2019-10-31</td>\n",
       "      <td>37.62</td>\n",
       "      <td>132.38</td>\n",
       "      <td>94.53</td>\n",
       "      <td>62.31</td>\n",
       "      <td>129.53</td>\n",
       "      <td>38.21</td>\n",
       "      <td>30.07</td>\n",
       "    </tr>\n",
       "    <tr>\n",
       "      <th>4</th>\n",
       "      <td>2019-11-01</td>\n",
       "      <td>37.21</td>\n",
       "      <td>132.05</td>\n",
       "      <td>94.25</td>\n",
       "      <td>61.46</td>\n",
       "      <td>130.99</td>\n",
       "      <td>38.95</td>\n",
       "      <td>30.30</td>\n",
       "    </tr>\n",
       "  </tbody>\n",
       "</table>\n",
       "</div>"
      ],
      "text/plain": [
       "        Date     GM     JHN    JCB    ALB     DSN    ATT     AA\n",
       "0 2019-10-28  37.21  128.62  94.33  62.75  131.45  38.30  31.00\n",
       "1 2019-10-29  37.60  129.70  93.80  63.45  130.50  38.49  31.42\n",
       "2 2019-10-30  38.26  133.30  94.48  62.86  129.69  38.39  30.77\n",
       "3 2019-10-31  37.62  132.38  94.53  62.31  129.53  38.21  30.07\n",
       "4 2019-11-01  37.21  132.05  94.25  61.46  130.99  38.95  30.30"
      ]
     },
     "execution_count": 331,
     "metadata": {},
     "output_type": "execute_result"
    }
   ],
   "source": [
    "stock_open.head()"
   ]
  },
  {
   "cell_type": "code",
   "execution_count": 334,
   "metadata": {},
   "outputs": [
    {
     "data": {
      "text/html": [
       "<div>\n",
       "<style scoped>\n",
       "    .dataframe tbody tr th:only-of-type {\n",
       "        vertical-align: middle;\n",
       "    }\n",
       "\n",
       "    .dataframe tbody tr th {\n",
       "        vertical-align: top;\n",
       "    }\n",
       "\n",
       "    .dataframe thead th {\n",
       "        text-align: right;\n",
       "    }\n",
       "</style>\n",
       "<table border=\"1\" class=\"dataframe\">\n",
       "  <thead>\n",
       "    <tr style=\"text-align: right;\">\n",
       "      <th></th>\n",
       "      <th>Date</th>\n",
       "      <th>GM</th>\n",
       "      <th>JHN</th>\n",
       "      <th>JCB</th>\n",
       "      <th>ALB</th>\n",
       "      <th>DSN</th>\n",
       "      <th>ATT</th>\n",
       "      <th>AA</th>\n",
       "    </tr>\n",
       "  </thead>\n",
       "  <tbody>\n",
       "    <tr>\n",
       "      <th>0</th>\n",
       "      <td>2020-01-01</td>\n",
       "      <td>36.37</td>\n",
       "      <td>145.10</td>\n",
       "      <td>89.70</td>\n",
       "      <td>71.61</td>\n",
       "      <td>143.67</td>\n",
       "      <td>39.01</td>\n",
       "      <td>28.20</td>\n",
       "    </tr>\n",
       "    <tr>\n",
       "      <th>1</th>\n",
       "      <td>2020-01-02</td>\n",
       "      <td>37.00</td>\n",
       "      <td>145.87</td>\n",
       "      <td>89.90</td>\n",
       "      <td>73.50</td>\n",
       "      <td>145.29</td>\n",
       "      <td>39.16</td>\n",
       "      <td>28.98</td>\n",
       "    </tr>\n",
       "    <tr>\n",
       "      <th>2</th>\n",
       "      <td>2020-01-03</td>\n",
       "      <td>36.73</td>\n",
       "      <td>143.50</td>\n",
       "      <td>89.13</td>\n",
       "      <td>71.41</td>\n",
       "      <td>146.40</td>\n",
       "      <td>38.58</td>\n",
       "      <td>28.27</td>\n",
       "    </tr>\n",
       "    <tr>\n",
       "      <th>3</th>\n",
       "      <td>2020-01-04</td>\n",
       "      <td>36.73</td>\n",
       "      <td>143.50</td>\n",
       "      <td>89.13</td>\n",
       "      <td>71.41</td>\n",
       "      <td>146.40</td>\n",
       "      <td>38.58</td>\n",
       "      <td>28.27</td>\n",
       "    </tr>\n",
       "    <tr>\n",
       "      <th>4</th>\n",
       "      <td>2020-01-05</td>\n",
       "      <td>36.73</td>\n",
       "      <td>143.50</td>\n",
       "      <td>89.13</td>\n",
       "      <td>71.41</td>\n",
       "      <td>146.40</td>\n",
       "      <td>38.58</td>\n",
       "      <td>28.27</td>\n",
       "    </tr>\n",
       "  </tbody>\n",
       "</table>\n",
       "</div>"
      ],
      "text/plain": [
       "        Date     GM     JHN    JCB    ALB     DSN    ATT     AA\n",
       "0 2020-01-01  36.37  145.10  89.70  71.61  143.67  39.01  28.20\n",
       "1 2020-01-02  37.00  145.87  89.90  73.50  145.29  39.16  28.98\n",
       "2 2020-01-03  36.73  143.50  89.13  71.41  146.40  38.58  28.27\n",
       "3 2020-01-04  36.73  143.50  89.13  71.41  146.40  38.58  28.27\n",
       "4 2020-01-05  36.73  143.50  89.13  71.41  146.40  38.58  28.27"
      ]
     },
     "execution_count": 334,
     "metadata": {},
     "output_type": "execute_result"
    }
   ],
   "source": [
    "stock_open = stock_open.loc[stock_open.Date >= '2020-01-01']\n",
    "stock_open.reset_index(drop=True, inplace=True)\n",
    "stock_open.head()"
   ]
  },
  {
   "cell_type": "code",
   "execution_count": 335,
   "metadata": {},
   "outputs": [],
   "source": [
    "stock_open.to_csv('STOCK_MARKET.csv', encoding='utf-8', index=False)"
   ]
  },
  {
   "cell_type": "code",
   "execution_count": 336,
   "metadata": {},
   "outputs": [
    {
     "data": {
      "text/plain": [
       "<matplotlib.legend.Legend at 0x13968dd90>"
      ]
     },
     "execution_count": 336,
     "metadata": {},
     "output_type": "execute_result"
    },
    {
     "data": {
      "image/png": "[encoded data removed]",
      "text/plain": [
       "<Figure size 432x288 with 1 Axes>"
      ]
     },
     "metadata": {},
     "output_type": "display_data"
    }
   ],
   "source": [
    "# sns.relplot(x=\"Date\", y=\"gm_open\", kind=\"line\", data=stock)\n",
    "# sns.relplot(x=\"Date\", y=\"johnson_open\", kind=\"line\", data=stock)\n",
    "sns.lineplot(x='Date', y='value', hue='variable',\n",
    "             data=pd.melt(stock_open, ['Date']))\n",
    "plt.legend(loc='center left', bbox_to_anchor=(1, 0.5))"
   ]
  },
  {
   "cell_type": "code",
   "execution_count": 328,
   "metadata": {},
   "outputs": [
    {
     "name": "stdout",
     "output_type": "stream",
     "text": [
      "<class 'pandas.core.frame.DataFrame'>\n",
      "Int64Index: 1 entries, 175 to 175\n",
      "Data columns (total 8 columns):\n",
      "Date              1 non-null datetime64[ns]\n",
      "gm_open           1 non-null float64\n",
      "johnson_open      1 non-null float64\n",
      "jacobs_open       1 non-null float64\n",
      "albemarle_open    1 non-null float64\n",
      "disney_open       1 non-null float64\n",
      "att_open          1 non-null float64\n",
      "aa_open           1 non-null float64\n",
      "dtypes: datetime64[ns](1), float64(7)\n",
      "memory usage: 72.0 bytes\n"
     ]
    }
   ],
   "source": [
    "stock_selected.info()"
   ]
  },
  {
   "cell_type": "code",
   "execution_count": null,
   "metadata": {},
   "outputs": [],
   "source": []
  },
  {
   "cell_type": "markdown",
   "metadata": {},
   "source": [
    "# ++++++++++++++++++++++++++++++++++++++++++++++++\n",
    "\n",
    "\n",
    "# ++++++++++++++++++++++++++++++++++++++++++++++++"
   ]
  },
  {
   "cell_type": "code",
   "execution_count": 329,
   "metadata": {},
   "outputs": [
    {
     "data": {
      "text/html": [
       "<div>\n",
       "<style scoped>\n",
       "    .dataframe tbody tr th:only-of-type {\n",
       "        vertical-align: middle;\n",
       "    }\n",
       "\n",
       "    .dataframe tbody tr th {\n",
       "        vertical-align: top;\n",
       "    }\n",
       "\n",
       "    .dataframe thead th {\n",
       "        text-align: right;\n",
       "    }\n",
       "</style>\n",
       "<table border=\"1\" class=\"dataframe\">\n",
       "  <thead>\n",
       "    <tr style=\"text-align: right;\">\n",
       "      <th></th>\n",
       "      <th>Date</th>\n",
       "      <th>GM</th>\n",
       "      <th>JHN</th>\n",
       "      <th>JCB</th>\n",
       "      <th>ALB</th>\n",
       "      <th>DSN</th>\n",
       "      <th>ATT</th>\n",
       "      <th>AA</th>\n",
       "    </tr>\n",
       "  </thead>\n",
       "  <tbody>\n",
       "    <tr>\n",
       "      <th>0</th>\n",
       "      <td>2019-10-28</td>\n",
       "      <td>37.21</td>\n",
       "      <td>128.62</td>\n",
       "      <td>94.33</td>\n",
       "      <td>62.75</td>\n",
       "      <td>131.45</td>\n",
       "      <td>38.30</td>\n",
       "      <td>31.00</td>\n",
       "    </tr>\n",
       "    <tr>\n",
       "      <th>1</th>\n",
       "      <td>2019-10-29</td>\n",
       "      <td>37.60</td>\n",
       "      <td>129.70</td>\n",
       "      <td>93.80</td>\n",
       "      <td>63.45</td>\n",
       "      <td>130.50</td>\n",
       "      <td>38.49</td>\n",
       "      <td>31.42</td>\n",
       "    </tr>\n",
       "    <tr>\n",
       "      <th>2</th>\n",
       "      <td>2019-10-30</td>\n",
       "      <td>38.26</td>\n",
       "      <td>133.30</td>\n",
       "      <td>94.48</td>\n",
       "      <td>62.86</td>\n",
       "      <td>129.69</td>\n",
       "      <td>38.39</td>\n",
       "      <td>30.77</td>\n",
       "    </tr>\n",
       "    <tr>\n",
       "      <th>3</th>\n",
       "      <td>2019-10-31</td>\n",
       "      <td>37.62</td>\n",
       "      <td>132.38</td>\n",
       "      <td>94.53</td>\n",
       "      <td>62.31</td>\n",
       "      <td>129.53</td>\n",
       "      <td>38.21</td>\n",
       "      <td>30.07</td>\n",
       "    </tr>\n",
       "    <tr>\n",
       "      <th>4</th>\n",
       "      <td>2019-11-01</td>\n",
       "      <td>37.21</td>\n",
       "      <td>132.05</td>\n",
       "      <td>94.25</td>\n",
       "      <td>61.46</td>\n",
       "      <td>130.99</td>\n",
       "      <td>38.95</td>\n",
       "      <td>30.30</td>\n",
       "    </tr>\n",
       "  </tbody>\n",
       "</table>\n",
       "</div>"
      ],
      "text/plain": [
       "        Date     GM     JHN    JCB    ALB     DSN    ATT     AA\n",
       "0 2019-10-28  37.21  128.62  94.33  62.75  131.45  38.30  31.00\n",
       "1 2019-10-29  37.60  129.70  93.80  63.45  130.50  38.49  31.42\n",
       "2 2019-10-30  38.26  133.30  94.48  62.86  129.69  38.39  30.77\n",
       "3 2019-10-31  37.62  132.38  94.53  62.31  129.53  38.21  30.07\n",
       "4 2019-11-01  37.21  132.05  94.25  61.46  130.99  38.95  30.30"
      ]
     },
     "execution_count": 329,
     "metadata": {},
     "output_type": "execute_result"
    }
   ],
   "source": [
    "stock_open.head()"
   ]
  },
  {
   "cell_type": "code",
   "execution_count": null,
   "metadata": {},
   "outputs": [],
   "source": []
  },
  {
   "cell_type": "code",
   "execution_count": 355,
   "metadata": {},
   "outputs": [
    {
     "data": {
      "text/plain": [
       "<matplotlib.legend.Legend at 0x148f8ad10>"
      ]
     },
     "execution_count": 355,
     "metadata": {},
     "output_type": "execute_result"
    },
    {
     "data": {
      "image/png": "[encoded data removed]",
      "text/plain": [
       "<Figure size 3000x1500 with 1 Axes>"
      ]
     },
     "metadata": {},
     "output_type": "display_data"
    }
   ],
   "source": [
    "fig, ax = plt.subplots(figsize=(10, 5), dpi=300)\n",
    "sns.lineplot(x='Date', y='value', hue='variable',\n",
    "             data=pd.melt(stock_open, ['Date']), ax=ax)\n",
    "ax.legend(loc='center left', bbox_to_anchor=(1, 0.5))"
   ]
  },
  {
   "cell_type": "code",
   "execution_count": 261,
   "metadata": {},
   "outputs": [],
   "source": [
    "my_dates = ['2019-11-20', '2019-12-20', '2020-01-20', '2020-02-20', '2020-03-20']"
   ]
  },
  {
   "cell_type": "code",
   "execution_count": 299,
   "metadata": {},
   "outputs": [],
   "source": []
  },
  {
   "cell_type": "code",
   "execution_count": 303,
   "metadata": {},
   "outputs": [
    {
     "data": {
      "image/png": "[encoded data removed]",
      "text/plain": [
       "<Figure size 1440x576 with 4 Axes>"
      ]
     },
     "metadata": {},
     "output_type": "display_data"
    }
   ],
   "source": [
    "plot_no = 0\n",
    "fig, [[ax1, ax2], [ax3, ax4]] = plt.subplots(nrows=2, ncols=2, figsize=(20, 8))\n",
    "sns.lineplot(x='Date', y='value', hue='variable',\n",
    "             data=pd.melt(stock_open, ['Date']), ax=ax3)\n",
    "ax3.legend(loc='center left', bbox_to_anchor=(1, 0.5))\n",
    "for i in range(len(my_dates)):\n",
    "    my_selected_date = my_dates[i]\n",
    "    line=ax3.axvline(my_selected_date)\n",
    "    ax3.set_title(str(my_selected_date))\n",
    "    fig.savefig('output_images/stock_image_{plot_no:04d}.png'.format(plot_no=plot_no))\n",
    "    file = pathlib.Path(\"output_images/stock_image_{plot_no:04d}.png\")\n",
    "#     plt.pause(0.1)  # added\n",
    "    line.remove()   # added\n",
    "    plot_no += 1\n"
   ]
  },
  {
   "cell_type": "code",
   "execution_count": null,
   "metadata": {},
   "outputs": [],
   "source": []
  },
  {
   "cell_type": "code",
   "execution_count": 353,
   "metadata": {},
   "outputs": [],
   "source": [
    "stock_open_columns = ['GM', 'JHN', 'JCB', 'ALB', 'DSN', 'ATT', 'AA']"
   ]
  },
  {
   "cell_type": "code",
   "execution_count": 352,
   "metadata": {},
   "outputs": [
    {
     "data": {
      "text/plain": [
       "Index(['Date', 'GM', 'JHN', 'JCB', 'ALB', 'DSN', 'ATT', 'AA'], dtype='object')"
      ]
     },
     "execution_count": 352,
     "metadata": {},
     "output_type": "execute_result"
    }
   ],
   "source": [
    "stock_open.columns"
   ]
  },
  {
   "cell_type": "code",
   "execution_count": null,
   "metadata": {},
   "outputs": [],
   "source": []
  },
  {
   "cell_type": "code",
   "execution_count": null,
   "metadata": {},
   "outputs": [],
   "source": []
  },
  {
   "cell_type": "code",
   "execution_count": null,
   "metadata": {},
   "outputs": [],
   "source": []
  },
  {
   "cell_type": "code",
   "execution_count": null,
   "metadata": {},
   "outputs": [],
   "source": []
  },
  {
   "cell_type": "code",
   "execution_count": null,
   "metadata": {},
   "outputs": [],
   "source": []
  },
  {
   "cell_type": "code",
   "execution_count": null,
   "metadata": {},
   "outputs": [],
   "source": []
  },
  {
   "cell_type": "code",
   "execution_count": null,
   "metadata": {},
   "outputs": [],
   "source": []
  },
  {
   "cell_type": "code",
   "execution_count": null,
   "metadata": {},
   "outputs": [],
   "source": []
  },
  {
   "cell_type": "code",
   "execution_count": null,
   "metadata": {},
   "outputs": [],
   "source": []
  },
  {
   "cell_type": "markdown",
   "metadata": {},
   "source": [
    "# ++++++++++++++++++++++++++++++++++++++++++++++++\n",
    "\n",
    "\n",
    "# ++++++++++++++++++++++++++++++++++++++++++++++++"
   ]
  },
  {
   "cell_type": "code",
   "execution_count": 25,
   "metadata": {},
   "outputs": [],
   "source": [
    "# Some example data to display\n",
    "x = np.linspace(0, 2 * np.pi, 400)\n",
    "y = np.sin(x ** 2)"
   ]
  },
  {
   "cell_type": "code",
   "execution_count": null,
   "metadata": {},
   "outputs": [],
   "source": [
    "path = 'output_images/'\n",
    "image_no = 0\n",
    "fig, [[ax1, ax2], [ax3, ax4]] = plt.subplots(nrows=2, ncols=2, figsize=(25, 17), dpi=300)\n",
    "\n",
    "ax1_min, ax1_max = 0.0, reddit_stacked.log10_mentions.max()\n",
    "ax2_min, ax2_max = 0.0, stacked.log10_mentions.max()\n",
    "\n",
    "vmin, vmax = 0, corona_df.log_Confirmed[corona_df.Date == '2020-04-21'].max()\n",
    "variable = 'log_Confirmed'\n",
    "sm = plt.cm.ScalarMappable(cmap='OrRd', norm=plt.Normalize(vmin=vmin, vmax=vmax))\n",
    "sm.set_array([])\n",
    "fig.colorbar(sm, ax = ax4, orientation = 'vertical', shrink=0.6, pad=0.02)\n",
    "\n",
    "ax1.set_title(\"REDDIT\\n\", fontdict = {'fontsize': 20, 'fontweight' : 4}, pad=0.02)\n",
    "ax2.set_title(\"TWITTER\\n\", fontdict = {'fontsize': 20, 'fontweight' : 4}, pad=0.02)\n",
    "ax3.set_title(\"\\nSTOCK MARKET\\n\", fontdict = {'fontsize': 20, 'fontweight' : 4}, pad=0.02)\n",
    "ax4.set_title(\"\\nlog(CONFIRMED CASES) - COVID 19\\n\", fontdict = {'fontsize': 20, 'fontweight' : 4}, pad=0.02)\n",
    "\n",
    "ax1.set_xlim([ax1_min, ax1_max])\n",
    "ax2.set_ylim([ax2_min, ax2_max])\n",
    "\n",
    "sns.lineplot(x='Date', y='value', hue='variable',\n",
    "             data=pd.melt(stock_open, ['Date']), ax=ax3)\n",
    "ax3.legend(loc='center left', bbox_to_anchor=(1, 0.5), labels=stock_columns)\n",
    "\n",
    "\n",
    "\n",
    "for i in range(0, len(date_list_test)):   \n",
    "    date_for_mask = date_list_test.Date.values[i]\n",
    "    \n",
    "    mask_twitter = (stacked['Date'] == date_for_mask)\n",
    "    mask_reddit = (reddit_stacked['Date'] == date_for_mask)\n",
    "    mask_stock = (stock_open['Date'] == date_for_mask)\n",
    "    mask_map = (corona_df['Date'] == date_for_mask)\n",
    "    \n",
    "    my_reddit = reddit_stacked.loc[mask_reddit]\n",
    "    my_twitter = stacked.loc[mask_twitter]\n",
    "    my_stock = stock_open.loc[mask_stock]\n",
    "    my_map = corona_df.loc[mask_map]\n",
    "    \n",
    "    sns.barplot(x=\"log10_mentions\", y=\"Categories\", data = my_reddit, ax=ax1)    \n",
    "    ax1.set_ylabel('Categories', fontdict = {'fontsize': 18, 'fontweight' : 3})\n",
    "    ax1.set_xlabel('log [Number of Mentions] (Cumulative)', fontdict = {'fontsize': 18, 'fontweight' : 3})\n",
    "    \n",
    "    sns.barplot(x=\"Hashtags\", y=\"log10_mentions\", data = my_twitter, ax=ax2)\n",
    "    ax2.set_ylabel('log [Number of Mentions] (Cumulative)', fontdict = {'fontsize': 18, 'fontweight' : 3})\n",
    "    ax2.set_xlabel('Hashtags', fontdict = {'fontsize': 18, 'fontweight' : 3})\n",
    "    \n",
    "    ax3_vline = ax3.axvline(date_for_mask, c='k', lw=2.0)\n",
    "    ax3.set_ylabel('Stock Value', fontdict = {'fontsize': 18, 'fontweight' : 3})\n",
    "    ax3.set_xlabel('Date', fontdict = {'fontsize': 18, 'fontweight' : 3})\n",
    "    \n",
    "    ax4.get_xaxis().set_visible(False)\n",
    "    ax4.get_yaxis().set_visible(False)\n",
    "    ax4.axis('equal')\n",
    "    fig.suptitle(str(date_for_mask), fontsize= 30, fontweight= 10, x=0.51, y=0.5)\n",
    "    my_map.plot(column=variable, cmap='OrRd', \n",
    "                linewidth=0.8, ax=ax4, edgecolor='0.8', figsize=(30,20)\n",
    "                )\n",
    "#     plt.tight_layout()\n",
    "    fig.savefig(os.path.join(path, 'image_{image_no:04d}.png'.format(image_no=image_no)), \n",
    "                dpi=300, bbox_inches='tight')\n",
    "    ax3_vline.remove()\n",
    "    image_no +=1"
   ]
  },
  {
   "cell_type": "code",
   "execution_count": null,
   "metadata": {},
   "outputs": [],
   "source": [
    "fontdict = {'fontsize': , 'fontweight' : }"
   ]
  },
  {
   "cell_type": "code",
   "execution_count": 223,
   "metadata": {},
   "outputs": [
    {
     "data": {
      "text/plain": [
       "'2020-01-22'"
      ]
     },
     "execution_count": 223,
     "metadata": {},
     "output_type": "execute_result"
    }
   ],
   "source": [
    "str(date_list_test.Date.values[0])"
   ]
  },
  {
   "cell_type": "code",
   "execution_count": null,
   "metadata": {},
   "outputs": [],
   "source": []
  },
  {
   "cell_type": "markdown",
   "metadata": {},
   "source": [
    "# ++++++++++++++++++++++++++++++++++++++++++++++++\n",
    "\n",
    "\n",
    "# ++++++++++++++++++++++++++++++++++++++++++++++++"
   ]
  },
  {
   "cell_type": "code",
   "execution_count": 306,
   "metadata": {},
   "outputs": [
    {
     "name": "stdout",
     "output_type": "stream",
     "text": [
      "True\n"
     ]
    },
    {
     "data": {
      "text/plain": [
       "0"
      ]
     },
     "execution_count": 306,
     "metadata": {},
     "output_type": "execute_result"
    }
   ],
   "source": [
    "# Making a video out of all the images\n",
    "images_path = \"output_images/\"\n",
    "print(os.path.isdir(images_path))\n",
    "os.system(\"ffmpeg -f image2 -r 1 -s 1024x768 -i output_images/image_%04d.png -vcodec mpeg4 -y output_images/video.mp4\")"
   ]
  },
  {
   "cell_type": "code",
   "execution_count": null,
   "metadata": {},
   "outputs": [],
   "source": [
    "images_path = \"output_images/\"\n",
    "sp.call([\n",
    "        'ffmpeg',\n",
    "        '-y',\n",
    "        '-r', '2',           #frame rate: 1/5 for 5 images in 1 sec, 5 for 1 image for 5 secs. 1 for 1 image for 1 sec\n",
    "        '-f', 'image2',\n",
    "        '-s', '1024x768',\n",
    "        '-i', os.path.join(images_path, 'image_%04d.png'),\n",
    "        '-vcodec', 'libx264',\n",
    "        '-crf',  '25',\n",
    "        '-pix_fmt', 'yuv420p',\n",
    "        os.path.join(images_path, 'video.mp4')\n",
    "    ])"
   ]
  },
  {
   "cell_type": "code",
   "execution_count": null,
   "metadata": {},
   "outputs": [],
   "source": []
  },
  {
   "cell_type": "code",
   "execution_count": null,
   "metadata": {},
   "outputs": [],
   "source": []
  },
  {
   "cell_type": "code",
   "execution_count": null,
   "metadata": {},
   "outputs": [],
   "source": []
  },
  {
   "cell_type": "code",
   "execution_count": null,
   "metadata": {},
   "outputs": [],
   "source": []
  }
 ],
 "metadata": {
  "kernelspec": {
   "display_name": "Python 3",
   "language": "python",
   "name": "python3"
  },
  "language_info": {
   "codemirror_mode": {
    "name": "ipython",
    "version": 3
   },
   "file_extension": ".py",
   "mimetype": "text/x-python",
   "name": "python",
   "nbconvert_exporter": "python",
   "pygments_lexer": "ipython3",
   "version": "3.8.6"
  },
  "toc-autonumbering": true
 },
 "nbformat": 4,
 "nbformat_minor": 4
}
